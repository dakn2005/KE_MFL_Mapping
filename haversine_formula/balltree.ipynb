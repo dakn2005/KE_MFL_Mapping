{
 "cells": [
  {
   "cell_type": "code",
   "execution_count": 23,
   "metadata": {},
   "outputs": [],
   "source": [
    "from sklearn.neighbors import BallTree\n",
    "import numpy as np\n",
    "import pandas as pd\n",
    "from math import radians\n",
    "from io import StringIO\n",
    "\n"
   ]
  },
  {
   "cell_type": "code",
   "execution_count": 13,
   "metadata": {},
   "outputs": [
    {
     "name": "stdout",
     "output_type": "stream",
     "text": [
      "[   0. 6371.]\n"
     ]
    }
   ],
   "source": [
    "# https://stackoverflow.com/questions/56862277/interpreting-sklearn-haversine-outputs-to-kilometers\n",
    "\n",
    "earth_radius = 6371000 # meters in earth\n",
    "test_radius = 1300000 # meters\n",
    "\n",
    "test_points = [[32.027240,-81.093190],[41.981876,-87.969982]]\n",
    "test_points_rad = np.array([[radians(x[0]), radians(x[1])] for x in test_points ])\n",
    "\n",
    "tree = BallTree(test_points_rad, metric = 'haversine')\n",
    "ind,results = tree.query_radius(test_points_rad, r=test_radius/earth_radius) #return_distance  = True\n",
    "# print(ind)\n",
    "print(results * earth_radius/1000)"
   ]
  },
  {
   "cell_type": "code",
   "execution_count": 35,
   "metadata": {},
   "outputs": [
    {
     "name": "stdout",
     "output_type": "stream",
     "text": [
      "NAME B_alt closest matches:\n",
      "B_alt [0.         0.00059128 0.00065239] [0 1 7]\n",
      "\tB with distance 0.0000 km\n",
      "\tC with distance 3.7671 km\n",
      "\tA with distance 4.1564 km\n",
      "NAME C_alt closest matches:\n",
      "C_alt [0.         0.00059128 0.00063334] [1 0 6]\n",
      "\tC with distance 0.0000 km\n",
      "\tB with distance 3.7671 km\n",
      "\tH with distance 4.0350 km\n"
     ]
    }
   ],
   "source": [
    "# https://stackoverflow.com/questions/61952561/how-do-i-find-the-neighbors-of-points-containing-coordinates-in-python\n",
    "\n",
    "cities = [\n",
    "    ['B', 50.94029883, 7.019146728], \n",
    "    ['C', 50.92073002, 6.975268711], \n",
    "    ['D', 50.99807758, 6.980865543],\n",
    "    ['E', 50.98074288, 7.035060206],\n",
    "    ['F', 51.00696972, 7.035993783],\n",
    "    ['G', 50.97369889, 6.928538763],\n",
    "    ['H', 50.94133859, 6.927878587],\n",
    "    ['A', 50.96712502, 6.977825322]\n",
    "]\n",
    "\n",
    "cities_np = np.array(cities)\n",
    "\n",
    "df = pd.DataFrame(cities_np, columns=['City', 'Latitude', 'Longitude'])\n",
    "\n",
    "\n",
    "# print(df[['Latitude', 'Longitude']].values.astype(float))\n",
    "\n",
    "# print(df)\n",
    "\n",
    "tree = BallTree(np.deg2rad(df[['Latitude', 'Longitude']].values.astype(float)), metric='haversine')\n",
    "\n",
    "# Setup distance queries (points for which we want to find nearest neighbors)\n",
    "other_data = \"\"\"NAME Latitude Longitude\n",
    "B_alt 50.94029883 7.019146728\n",
    "C_alt 50.92073002 6.975268711\"\"\"\n",
    "\n",
    "df_other = pd.read_csv(StringIO(other_data), sep = ' ')\n",
    "\n",
    "query_lats = df_other['Latitude']\n",
    "query_lons = df_other['Longitude']\n",
    "\n",
    "distances, indices = tree.query(np.deg2rad(np.c_[query_lats, query_lons]), k = 3)\n",
    "\n",
    "r_km = 6371 # multiplier to convert to km (from unit distance)\n",
    "\n",
    "\n",
    "for name, d, ind in zip(df_other['NAME'], distances, indices):\n",
    "    print(f\"NAME {name} closest matches:\")\n",
    "    print(name, d, ind)\n",
    "    for i, index in enumerate(ind):\n",
    "        print(f\"\\t{df['City'][index]} with distance {d[i]*r_km:.4f} km\")\n"
   ]
  },
  {
   "cell_type": "code",
   "execution_count": null,
   "metadata": {},
   "outputs": [],
   "source": []
  }
 ],
 "metadata": {
  "kernelspec": {
   "display_name": "python3env-ZDAzBVqC",
   "language": "python",
   "name": "python3"
  },
  "language_info": {
   "codemirror_mode": {
    "name": "ipython",
    "version": 3
   },
   "file_extension": ".py",
   "mimetype": "text/x-python",
   "name": "python",
   "nbconvert_exporter": "python",
   "pygments_lexer": "ipython3",
   "version": "3.7.13"
  },
  "orig_nbformat": 4
 },
 "nbformat": 4,
 "nbformat_minor": 2
}
