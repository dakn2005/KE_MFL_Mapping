{
 "cells": [
  {
   "attachments": {},
   "cell_type": "markdown",
   "metadata": {},
   "source": [
    "## Load data from JSON"
   ]
  },
  {
   "cell_type": "code",
   "execution_count": 3,
   "metadata": {},
   "outputs": [],
   "source": [
    "import duckdb\n",
    "import pandas as pd\n",
    "pd.set_option('display.max_columns', None)"
   ]
  },
  {
   "cell_type": "code",
   "execution_count": null,
   "metadata": {},
   "outputs": [],
   "source": [
    "df = pd.read_json('mfl_mod.json')\n",
    "\n",
    "# df.head()\n",
    "\n",
    "# https://stackoverflow.com/questions/45865608/executing-an-sql-query-over-a-pandas-dataset\n",
    "\n",
    "outdf = duckdb.query(\"\"\"select name, officialname, keph_level_name, facility_type_name, county_name, \n",
    "\tsub_county_name, owner_name, owner_type_name, admission_status_name, \n",
    "\toperation_status_name, \n",
    "\topen_whole_day, open_public_holidays, open_weekends, open_late_night,\n",
    "\tcategories, service_names, \n",
    "    lat as long, long  as lat from df\"\"\").df()\n",
    "\n",
    "outdf.head()"
   ]
  },
  {
   "cell_type": "code",
   "execution_count": 2,
   "metadata": {},
   "outputs": [],
   "source": [
    "outdf.to_csv('mfl.csv')"
   ]
  },
  {
   "attachments": {},
   "cell_type": "markdown",
   "metadata": {},
   "source": [
    "#### Add Services data"
   ]
  },
  {
   "cell_type": "code",
   "execution_count": 9,
   "metadata": {},
   "outputs": [
    {
     "ename": "",
     "evalue": "",
     "output_type": "error",
     "traceback": [
      "\u001b[1;31mThe Kernel crashed while executing code in the the current cell or a previous cell. Please review the code in the cell(s) to identify a possible cause of the failure. Click <a href='https://aka.ms/vscodeJupyterKernelCrash'>here</a> for more info. View Jupyter <a href='command:jupyter.viewOutput'>log</a> for further details."
     ]
    }
   ],
   "source": [
    "service_df = pd.read_json('service.json')\n",
    "\n",
    "service_df\n",
    "\n",
    "service_df.to_csv('service.csv')"
   ]
  },
  {
   "cell_type": "code",
   "execution_count": 8,
   "metadata": {},
   "outputs": [],
   "source": [
    "service_cat_df = pd.read_json('service_category.json')\n",
    "\n",
    "service_cat_df\n",
    "\n",
    "service_cat_df.to_csv('service_cat.csv')"
   ]
  }
 ],
 "metadata": {
  "kernelspec": {
   "display_name": "python3env-ZDAzBVqC",
   "language": "python",
   "name": "python3"
  },
  "language_info": {
   "codemirror_mode": {
    "name": "ipython",
    "version": 3
   },
   "file_extension": ".py",
   "mimetype": "text/x-python",
   "name": "python",
   "nbconvert_exporter": "python",
   "pygments_lexer": "ipython3",
   "version": "3.7.9"
  },
  "orig_nbformat": 4
 },
 "nbformat": 4,
 "nbformat_minor": 2
}
