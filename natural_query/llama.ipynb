{
 "cells": [
  {
   "cell_type": "markdown",
   "metadata": {},
   "source": [
    "# LLama Index Implementation\n",
    "### DB search using English (and ChatGPT)\n"
   ]
  },
  {
   "cell_type": "code",
   "execution_count": 89,
   "metadata": {},
   "outputs": [],
   "source": [
    "from sqlalchemy import create_engine, text\n",
    "import pandas as pd"
   ]
  },
  {
   "cell_type": "code",
   "execution_count": 90,
   "metadata": {},
   "outputs": [
    {
     "name": "stdout",
     "output_type": "stream",
     "text": [
      "(8298, 'Jamia Med Clinic', 'Jamia Medical Clinic', 2, 'Medical Clinic', 'Uasin Gishu', 'Kapseret', 'Private Practice', '', 'Operational', True, False, False, False, '[]', None, None, None, 'Private Practice - Private Institution Academic', 6, 2, 'Kapseret', 'Kipkenyo')\n"
     ]
    }
   ],
   "source": [
    "engine = create_engine(\"postgresql+psycopg2:///?user=postgres&password=123@Team&host=127.0.0.1&port=5432&database=kmfl_llama\")\n",
    "# dbConnection = engine.connect()\n",
    "\n",
    "with engine.connect() as conn:\n",
    "    result = conn.execute(text(\"SELECT * FROM tbl_kmfl WHERE open_whole_day = true\"))\n",
    "    # for row in result:\n",
    "    print(result.first())"
   ]
  },
  {
   "cell_type": "code",
   "execution_count": 91,
   "metadata": {},
   "outputs": [],
   "source": [
    "from llama_index import SQLDatabase\n",
    "\n",
    "table_details={\n",
    "    'tbl_kmfl': 'Kenya facility list - list of hospitals, dispensaries, clinics etc; this is the primary table',\n",
    "    'service_category': 'categories of services offered in facilities',\n",
    "    'service': 'services offered in facilities',\n",
    "    # 'service_cat_fac_mapper': 'service-category to facility mapper',\n",
    "    # 'service_fac_mapper': 'service to facility mapper',\n",
    "    # 'pharmacies': 'pharmacies'\n",
    "}\n",
    "\n",
    "ze_model = 'gpt-3.5-turbo' \n",
    "\n",
    "sql_db  = SQLDatabase(engine, include_tables=['tbl_kmfl'], sample_rows_in_table_info=5 )"
   ]
  },
  {
   "cell_type": "code",
   "execution_count": 92,
   "metadata": {},
   "outputs": [
    {
     "data": {
      "text/plain": [
       "['service', 'tbl_kmfl', 'service_category']"
      ]
     },
     "execution_count": 92,
     "metadata": {},
     "output_type": "execute_result"
    }
   ],
   "source": [
    "list(sql_db._all_tables)\n",
    "# print(sql_db.table_info)"
   ]
  },
  {
   "cell_type": "code",
   "execution_count": 93,
   "metadata": {},
   "outputs": [],
   "source": [
    "import os\n",
    "import openai\n",
    "from dotenv import load_dotenv\n",
    "load_dotenv()\n",
    "\n",
    "openai.api_key = os.getenv(\"OPEN_AI_KEY\")\n"
   ]
  },
  {
   "cell_type": "code",
   "execution_count": 94,
   "metadata": {},
   "outputs": [],
   "source": [
    "import tiktoken\n",
    "from llama_index.callbacks import CallbackManager, TokenCountingHandler\n",
    "\n",
    "token_counter = TokenCountingHandler(\n",
    "    tokenizer= tiktoken.encoding_for_model(ze_model).encode\n",
    ")\n",
    "\n",
    "callback_manager = CallbackManager([token_counter])"
   ]
  },
  {
   "cell_type": "code",
   "execution_count": 95,
   "metadata": {},
   "outputs": [],
   "source": [
    "from llama_index import ServiceContext, LLMPredictor, OpenAIEmbedding, PromptHelper\n",
    "from llama_index.llms import OpenAI\n",
    "\n",
    "llm = OpenAI(temperature=0.1, model=ze_model)\n",
    "\n",
    "service_ctx = ServiceContext.from_defaults(\n",
    "    llm=llm, callback_manager=callback_manager\n",
    ")"
   ]
  },
  {
   "cell_type": "code",
   "execution_count": 96,
   "metadata": {},
   "outputs": [],
   "source": [
    "from llama_index.indices.struct_store.sql_query import NLSQLTableQueryEngine\n",
    "\n",
    "query_engine = NLSQLTableQueryEngine(\n",
    "    sql_database=sql_db,\n",
    "    service_context=service_ctx\n",
    ")\n"
   ]
  },
  {
   "cell_type": "code",
   "execution_count": 97,
   "metadata": {},
   "outputs": [],
   "source": [
    "# query_str = \"how many tables are we querying from public schema?\"\n",
    "# # response = query_engine.query(query_str)\n",
    "# response  = query_engine.query('facilities that have child services; produce postgres sql using \"like\" statement where possible')"
   ]
  },
  {
   "cell_type": "code",
   "execution_count": 98,
   "metadata": {},
   "outputs": [],
   "source": [
    "# print(response)\n",
    "# print(response.metadata['sql_query'])\n",
    "# print(token_counter.total_llm_token_count)"
   ]
  },
  {
   "cell_type": "markdown",
   "metadata": {},
   "source": [
    "#### Efficient querying?"
   ]
  },
  {
   "cell_type": "code",
   "execution_count": 99,
   "metadata": {},
   "outputs": [],
   "source": [
    "from llama_index.objects import ObjectIndex, SQLTableNodeMapping, SQLTableSchema\n",
    "\n",
    "tables = list(sql_db._all_tables)\n",
    "table_node_mapping = SQLTableNodeMapping(sql_db)\n",
    "table_schema_objs=[]\n",
    "\n",
    "tables\n",
    "\n",
    "for table in tables:\n",
    "    table_schema_objs.append(SQLTableSchema(table_name=table, context_str=table_details[table]))"
   ]
  },
  {
   "cell_type": "code",
   "execution_count": 100,
   "metadata": {},
   "outputs": [
    {
     "data": {
      "text/plain": [
       "[SQLTableSchema(table_name='service', context_str='services offered in facilities'),\n",
       " SQLTableSchema(table_name='tbl_kmfl', context_str='Kenya facility list - list of hospitals, dispensaries, clinics etc; this is the primary table'),\n",
       " SQLTableSchema(table_name='service_category', context_str='categories of services offered in facilities')]"
      ]
     },
     "execution_count": 100,
     "metadata": {},
     "output_type": "execute_result"
    }
   ],
   "source": [
    "table_schema_objs"
   ]
  },
  {
   "cell_type": "code",
   "execution_count": 101,
   "metadata": {},
   "outputs": [],
   "source": [
    "from llama_index.indices.struct_store import SQLTableRetrieverQueryEngine\n",
    "from llama_index import VectorStoreIndex, GPTVectorStoreIndex\n",
    "\n",
    "obj_index = ObjectIndex.from_objects(\n",
    "    table_schema_objs, table_node_mapping, VectorStoreIndex, service_context = service_ctx\n",
    ")\n",
    "\n",
    "query_engine = SQLTableRetrieverQueryEngine(sql_db, obj_index.as_retriever(similarity_top_k=3), service_context=service_ctx)"
   ]
  },
  {
   "cell_type": "code",
   "execution_count": 108,
   "metadata": {},
   "outputs": [
    {
     "name": "stdout",
     "output_type": "stream",
     "text": [
      "recordslength:  20\n",
      "metadata:  SELECT name, keph_level\n",
      "FROM tbl_kmfl\n",
      "WHERE keph_level >= 5\n",
      "ORDER BY keph_level DESC\n",
      "LIMIT 20;\n",
      "tokens:  8305\n",
      "response:\n",
      " Here are the top 20 facilities in the county with level 5 and above:\n",
      "\n",
      "1. National Spinal Injury Hospital - Level 6\n",
      "2. KNH Othaya Annex - Level 6\n",
      "3. Kenyatta University Teaching Referral and Research Hospital - Level 6\n",
      "4. Moi Teaching Referral Hospital - Level 6\n",
      "5. Kenyatta National Hospital - Level 6\n",
      "6. Mathari Hospital - Level 6\n",
      "7. Mama Margaret Uhuru Hospital - Level 5\n",
      "8. AAR Hospital - Muthaiga - Level 5\n",
      "9. Komarock Healthcare-Kathwana - Level 5\n",
      "10. Nairobi Hospital - Level 5\n",
      "11. Embu Level 5 Hospital - Level 5\n",
      "12. Meru Teaching And Referral Hospital - Level 5\n",
      "13. Kijabe (AIC) Hospital - Level 5\n",
      "14. Garissa Level 5 Teaching and Referral Hospital - Level 5\n",
      "15. Chogoria (PCEA) Hospital - Level 5\n",
      "16. Coast General Teaching and Referral Hospital - Level 5\n",
      "17. Tabaka Mission Hospital - Level 5\n",
      "18. Thika Level 5 Hospital - Level 5\n",
      "19. Kakamega County General Hospital - Level 5\n",
      "20. Jaramogi Oginga Odinga Teaching & Referral Hospital - Level 5\n"
     ]
    }
   ],
   "source": [
    "resp = query_engine.query('top 20 facilities in the county level 5 and above - show facility and level; the higher the level number the bigger the hospital, above a level means hospital with higher number; produce psql using \"ilike\" statement where possible;')\n",
    "# ; produce psql using \"like\" statement where possible\n",
    "# ; in the produced sql query replace \"like\" with \"ilike\" \n",
    "\n",
    "# facilities open weekend -> very slow... interesting -> add record limit for faster output\n",
    "### top 10 facilities that open facilities open weekend in kisii\n",
    "# which are the level 4 facilities? -> very slow\n",
    "\n",
    "# Seems chatting features are optimized for summaries\n",
    "# how many facilities are level 4; produce psql using \"like\" statement where possible -> fast\n",
    "# how many facilities operate 24hrs -> fast\n",
    "# how many facilities do we have that are open weekend -> quite fast, seems queries should be more verbose\n",
    "\n",
    "if 'result' in resp.metadata:\n",
    "    print('recordslength: ', len(resp.metadata['result']))\n",
    "\n",
    "print('metadata: ', resp.metadata['sql_query'])\n",
    "print('tokens: ', token_counter.total_llm_token_count)\n",
    "print('response:\\n', resp)\n"
   ]
  },
  {
   "cell_type": "markdown",
   "metadata": {},
   "source": [
    "#### Query Todos\n",
    "\n",
    "###### Replacements\n",
    "- kenya, near me, my vicinity\n",
    "\n",
    "###### Prompts\n",
    "- add 'top 20' facilities if not added\n",
    "\n",
    "###### user instructions\n",
    "- for locations, add admin unit\n",
    "- specify service-name, if the query is empty, rewrite \n",
    "- "
   ]
  }
 ],
 "metadata": {
  "kernelspec": {
   "display_name": "venv",
   "language": "python",
   "name": "python3"
  },
  "language_info": {
   "codemirror_mode": {
    "name": "ipython",
    "version": 3
   },
   "file_extension": ".py",
   "mimetype": "text/x-python",
   "name": "python",
   "nbconvert_exporter": "python",
   "pygments_lexer": "ipython3",
   "version": "3.11.6"
  }
 },
 "nbformat": 4,
 "nbformat_minor": 2
}
