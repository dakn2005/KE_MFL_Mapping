{
 "cells": [
  {
   "cell_type": "markdown",
   "metadata": {},
   "source": [
    "# LLama Index Implementation\n",
    "### DB search using English (and ChatGPT)\n"
   ]
  },
  {
   "cell_type": "code",
   "execution_count": 1,
   "metadata": {},
   "outputs": [],
   "source": [
    "from sqlalchemy import create_engine, text\n",
    "import pandas as pd"
   ]
  },
  {
   "cell_type": "code",
   "execution_count": 6,
   "metadata": {},
   "outputs": [
    {
     "name": "stdout",
     "output_type": "stream",
     "text": [
      "(3, 'Al Shafic Nursing Home Limited', 'Al Shafic Nursing Home Limited', 'Level 3', 'Nursing Homes', 'Wajir', 'Wajir East', 'Private Practice', 'Admitting  General Patients Only', 'Operational', True, True, True, True, \"['Accident and Emergency casualty Services', 'Basic Occupational Therapy', 'Basic Services for Gender Based Violence Survivors', 'Basic- Perform basi ... (286 characters truncated) ... ections', 'Basic Emergency Preparedness', 'HIV Testing Services', 'Outpatient', 'Inpatient', 'Basic dental services', 'Basic Mental Health Services']\", 40.04488825, 1.7440496, \"['24fd65c9-56ea-497c-82ec-3fdf0ac9d006', '36d2f7a8-41b3-40f8-8943-e513fa28c8db', 'f312d0b2-5e41-4587-b54d-ff1d1bc128c6', '4a5acc1b-894f-4405-b80e-8e1 ... (382 characters truncated) ... 1695-486e-85bd-4df0c4571b01', '3a7cb460-2ecb-450b-b21a-4c67e90ba6d2', '6f8c6c75-135c-4911-848d-8d3467c00605', '3907645f-f8f9-44da-b66c-ebf73bedacac']\", 'Private Practice - Clinical Officer')\n"
     ]
    }
   ],
   "source": [
    "engine = create_engine(\"postgresql+psycopg2:///?user=postgres&password=123@Team&host=127.0.0.1&port=5432&database=kmfl_llama\")\n",
    "# dbConnection = engine.connect()\n",
    "\n",
    "with engine.connect() as conn:\n",
    "    result = conn.execute(text(\"SELECT * FROM tbl_kmfl WHERE open_whole_day = true\"))\n",
    "    # for row in result:\n",
    "    print(result.first())"
   ]
  },
  {
   "cell_type": "code",
   "execution_count": 11,
   "metadata": {},
   "outputs": [],
   "source": [
    "from llama_index import SQLDatabase\n",
    "\n",
    "table_details={\n",
    "    'tbl_kmfl': 'Kenya facility list - list of hospitals, dispensaries, clinics etc',\n",
    "    'service_category': 'categories of services offered in facilities',\n",
    "    'service': 'services offered in facilities',\n",
    "    # 'serv_cat_fac_mapper': 'service-category to facility mapper',\n",
    "    # 'serv_fac_mapper': 'service to facility mapper',\n",
    "    # 'pharmacies': 'pharmacies'\n",
    "}\n",
    "\n",
    "ze_model = 'gpt-3.5-turbo' \n",
    "\n",
    "sql_db  = SQLDatabase(engine, include_tables=['tbl_kmfl'], sample_rows_in_table_info=5 )"
   ]
  },
  {
   "cell_type": "code",
   "execution_count": 12,
   "metadata": {},
   "outputs": [
    {
     "data": {
      "text/plain": [
       "['tbl_kmfl', 'service_category', 'service']"
      ]
     },
     "execution_count": 12,
     "metadata": {},
     "output_type": "execute_result"
    }
   ],
   "source": [
    "list(sql_db._all_tables)\n",
    "# print(sql_db.table_info)"
   ]
  },
  {
   "cell_type": "code",
   "execution_count": 13,
   "metadata": {},
   "outputs": [],
   "source": [
    "import os\n",
    "import openai\n",
    "from dotenv import load_dotenv\n",
    "load_dotenv()\n",
    "\n",
    "openai.api_key = os.getenv(\"OPEN_AI_KEY\")\n"
   ]
  },
  {
   "cell_type": "code",
   "execution_count": 14,
   "metadata": {},
   "outputs": [],
   "source": [
    "import tiktoken\n",
    "from llama_index.callbacks import CallbackManager, TokenCountingHandler\n",
    "\n",
    "token_counter = TokenCountingHandler(\n",
    "    tokenizer= tiktoken.encoding_for_model(ze_model).encode\n",
    ")\n",
    "\n",
    "callback_manager = CallbackManager([token_counter])"
   ]
  },
  {
   "cell_type": "code",
   "execution_count": 15,
   "metadata": {},
   "outputs": [],
   "source": [
    "from llama_index import ServiceContext, LLMPredictor, OpenAIEmbedding, PromptHelper\n",
    "from llama_index.llms import OpenAI\n",
    "\n",
    "llm = OpenAI(temperature=0.1, model=ze_model)\n",
    "\n",
    "service_ctx = ServiceContext.from_defaults(\n",
    "    llm=llm, callback_manager=callback_manager\n",
    ")"
   ]
  },
  {
   "cell_type": "code",
   "execution_count": 16,
   "metadata": {},
   "outputs": [],
   "source": [
    "from llama_index.indices.struct_store.sql_query import NLSQLTableQueryEngine\n",
    "\n",
    "query_engine = NLSQLTableQueryEngine(\n",
    "    sql_database=sql_db,\n",
    "    service_context=service_ctx\n",
    ")\n"
   ]
  },
  {
   "cell_type": "code",
   "execution_count": 19,
   "metadata": {},
   "outputs": [],
   "source": [
    "# query_str = \"how many tables are we querying from public schema?\"\n",
    "# # response = query_engine.query(query_str)\n",
    "# response  = query_engine.query('facilities that have child services; produce postgres sql using \"like\" statement where possible')"
   ]
  },
  {
   "cell_type": "code",
   "execution_count": 20,
   "metadata": {},
   "outputs": [],
   "source": [
    "# print(response)\n",
    "# print(response.metadata['sql_query'])\n",
    "# print(token_counter.total_llm_token_count)"
   ]
  },
  {
   "cell_type": "markdown",
   "metadata": {},
   "source": [
    "#### Efficient querying?"
   ]
  },
  {
   "cell_type": "code",
   "execution_count": 21,
   "metadata": {},
   "outputs": [],
   "source": [
    "from llama_index.objects import ObjectIndex, SQLTableNodeMapping, SQLTableSchema\n",
    "\n",
    "tables = list(sql_db._all_tables)\n",
    "table_node_mapping = SQLTableNodeMapping(sql_db)\n",
    "table_schema_objs=[]\n",
    "\n",
    "tables\n",
    "\n",
    "for table in tables:\n",
    "    table_schema_objs.append(SQLTableSchema(table_name=table, context_str=table_details[table]))"
   ]
  },
  {
   "cell_type": "code",
   "execution_count": 22,
   "metadata": {},
   "outputs": [
    {
     "data": {
      "text/plain": [
       "[SQLTableSchema(table_name='tbl_kmfl', context_str='Kenya facility list - list of hospitals, dispensaries, clinics etc'),\n",
       " SQLTableSchema(table_name='service_category', context_str='categories of services offered in facilities'),\n",
       " SQLTableSchema(table_name='service', context_str='services offered in facilities')]"
      ]
     },
     "execution_count": 22,
     "metadata": {},
     "output_type": "execute_result"
    }
   ],
   "source": [
    "table_schema_objs"
   ]
  },
  {
   "cell_type": "code",
   "execution_count": 23,
   "metadata": {},
   "outputs": [],
   "source": [
    "from llama_index.indices.struct_store import SQLTableRetrieverQueryEngine\n",
    "from llama_index import VectorStoreIndex, GPTVectorStoreIndex\n",
    "\n",
    "obj_index = ObjectIndex.from_objects(\n",
    "    table_schema_objs, table_node_mapping, VectorStoreIndex, service_context = service_ctx\n",
    ")\n",
    "\n",
    "query_engine = SQLTableRetrieverQueryEngine(sql_db, obj_index.as_retriever(similarity_top_k=3), service_context=service_ctx)"
   ]
  },
  {
   "cell_type": "code",
   "execution_count": 81,
   "metadata": {},
   "outputs": [
    {
     "name": "stdout",
     "output_type": "stream",
     "text": [
      "response:  Here are the top 12 private facilities that are above level 1:\n",
      "\n",
      "1. Komarock Healthcare-Kathwana - Level 5\n",
      "2. Jacaranda Maternity Hospital - Level 5\n",
      "3. Lifecare Hospitals Meru - Level 5\n",
      "4. AAR Hospital - Muthaiga - Level 5\n",
      "5. Aga Khan Hospital - Level 5\n",
      "6. Nairobi Hospital - Level 5\n",
      "7. 3rd Park Hospital Limited - Level 5\n",
      "8. St. Newreb Hospital - Level 5\n",
      "9. Afya Bora Hospital Annex - Level 5\n",
      "10. Citymed Cottage Hospital Nyandarua - Level 4\n",
      "11. Lifecare Hospital, Eldoret - Level 4\n",
      "12. Care Giver Community Hospital - Level 4\n",
      "metadata:  SELECT id, name, keph_level_name, owner_type_name\n",
      "FROM tbl_kmfl\n",
      "WHERE keph_level_name ILIKE 'level%'\n",
      "AND owner_type_name ILIKE 'private%'\n",
      "ORDER BY keph_level_name DESC\n",
      "LIMIT 12;\n",
      "tokens:  134962\n"
     ]
    }
   ],
   "source": [
    "resp = query_engine.query('top 12 facilities which are above level 1 and private; produce psql using \"ilike\" statement where possible')\n",
    "# ; produce psql using \"like\" statement where possible\n",
    "# ; in the produced sql query replace \"like\" with \"ilike\" \n",
    "\n",
    "# facilities open weekend -> very slow... interesting -> add record limit for faster output\n",
    "### top 10 facilities that open facilities open weekend in kisii\n",
    "# which are the level 4 facilities? -> very slow\n",
    "\n",
    "# Seems chatting features are optimized for summaries\n",
    "# how many facilities are level 4; produce psql using \"like\" statement where possible -> fast\n",
    "# how many facilities operate 24hrs -> fast\n",
    "# how many facilities do we have that are open weekend -> quite fast, seems queries should be more verbose\n",
    "\n",
    "print('response: ', resp)\n",
    "print('metadata: ', resp.metadata['sql_query'])\n",
    "# print('metadata: ', resp.metadata['result'])\n",
    "print('tokens: ', token_counter.total_llm_token_count)"
   ]
  },
  {
   "cell_type": "markdown",
   "metadata": {},
   "source": []
  }
 ],
 "metadata": {
  "kernelspec": {
   "display_name": "venv",
   "language": "python",
   "name": "python3"
  },
  "language_info": {
   "codemirror_mode": {
    "name": "ipython",
    "version": 3
   },
   "file_extension": ".py",
   "mimetype": "text/x-python",
   "name": "python",
   "nbconvert_exporter": "python",
   "pygments_lexer": "ipython3",
   "version": "3.11.6"
  }
 },
 "nbformat": 4,
 "nbformat_minor": 2
}
