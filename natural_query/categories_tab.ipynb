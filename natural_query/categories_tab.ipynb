{
 "cells": [
  {
   "cell_type": "markdown",
   "metadata": {},
   "source": [
    "### Create Service-facility Mapper "
   ]
  },
  {
   "cell_type": "code",
   "execution_count": 2,
   "metadata": {},
   "outputs": [],
   "source": [
    "from sqlalchemy import create_engine, text\n",
    "import pandas as pd\n",
    "import duckdb\n",
    "\n",
    "engine = create_engine(\"postgresql+psycopg2:///?user=postgres&password=123@Team&host=127.0.0.1&port=5432&database=kmfl_llama\")\n",
    "# dbConnection = engine.connect()\n",
    "\n",
    "# with engine.connect() as conn:\n",
    "#     result = conn.execute(text(\"SELECT * FROM tbl_kmfl WHERE open_whole_day = true\"))\n",
    "#     for row in result:\n",
    "#         print(row)\n",
    "\n",
    "df = pd.read_sql(\"\"\"select \n",
    "    id,\n",
    "    categories\n",
    "    from tbl_kmfl \n",
    "    where lat is not null\n",
    "    \n",
    "\"\"\", con=engine)"
   ]
  },
  {
   "cell_type": "code",
   "execution_count": 3,
   "metadata": {},
   "outputs": [
    {
     "data": {
      "text/html": [
       "<div>\n",
       "<style scoped>\n",
       "    .dataframe tbody tr th:only-of-type {\n",
       "        vertical-align: middle;\n",
       "    }\n",
       "\n",
       "    .dataframe tbody tr th {\n",
       "        vertical-align: top;\n",
       "    }\n",
       "\n",
       "    .dataframe thead th {\n",
       "        text-align: right;\n",
       "    }\n",
       "</style>\n",
       "<table border=\"1\" class=\"dataframe\">\n",
       "  <thead>\n",
       "    <tr style=\"text-align: right;\">\n",
       "      <th></th>\n",
       "      <th>facility_id</th>\n",
       "      <th>service_category_id</th>\n",
       "    </tr>\n",
       "  </thead>\n",
       "  <tbody>\n",
       "    <tr>\n",
       "      <th>0</th>\n",
       "      <td>2</td>\n",
       "      <td>3a7cb460-2ecb-450b-b21a-4c67e90ba6d2</td>\n",
       "    </tr>\n",
       "    <tr>\n",
       "      <th>1</th>\n",
       "      <td>3</td>\n",
       "      <td>24fd65c9-56ea-497c-82ec-3fdf0ac9d006</td>\n",
       "    </tr>\n",
       "    <tr>\n",
       "      <th>2</th>\n",
       "      <td>3</td>\n",
       "      <td>36d2f7a8-41b3-40f8-8943-e513fa28c8db</td>\n",
       "    </tr>\n",
       "    <tr>\n",
       "      <th>3</th>\n",
       "      <td>3</td>\n",
       "      <td>f312d0b2-5e41-4587-b54d-ff1d1bc128c6</td>\n",
       "    </tr>\n",
       "    <tr>\n",
       "      <th>4</th>\n",
       "      <td>3</td>\n",
       "      <td>4a5acc1b-894f-4405-b80e-8e1cfe2609c5</td>\n",
       "    </tr>\n",
       "  </tbody>\n",
       "</table>\n",
       "</div>"
      ],
      "text/plain": [
       "   facility_id                   service_category_id\n",
       "0            2  3a7cb460-2ecb-450b-b21a-4c67e90ba6d2\n",
       "1            3  24fd65c9-56ea-497c-82ec-3fdf0ac9d006\n",
       "2            3  36d2f7a8-41b3-40f8-8943-e513fa28c8db\n",
       "3            3  f312d0b2-5e41-4587-b54d-ff1d1bc128c6\n",
       "4            3  4a5acc1b-894f-4405-b80e-8e1cfe2609c5"
      ]
     },
     "execution_count": 3,
     "metadata": {},
     "output_type": "execute_result"
    }
   ],
   "source": [
    "import re\n",
    "import numpy as np\n",
    "\n",
    "out=[]\n",
    "for i in range(len(df)):\n",
    "    cats = df.iloc[i]['categories']\n",
    "    catArr = re.findall(r'(\\w+\\-\\w+\\-\\w+\\-\\w+\\-\\w+)', cats)\n",
    "    for cat in catArr:\n",
    "        out.append([df.iloc[i]['id'], cat])\n",
    "\n",
    "dfsc = pd.DataFrame(out, columns=['facility_id', 'service_category_id'])\n",
    "\n",
    "dfsc.head()\n",
    "\n"
   ]
  },
  {
   "cell_type": "code",
   "execution_count": 4,
   "metadata": {},
   "outputs": [],
   "source": [
    "dfsc.to_csv('service_cat_fac_mapper.csv')"
   ]
  },
  {
   "cell_type": "code",
   "execution_count": null,
   "metadata": {},
   "outputs": [],
   "source": [
    "import re\n",
    "import numpy as np\n",
    "\n",
    "out=[]\n",
    "for i in range(len(df)):\n",
    "    cats = df.iloc[i]['services']\n",
    "    catArr = re.findall(r'(\\w+\\-\\w+\\-\\w+\\-\\w+\\-\\w+)', cats)\n",
    "    for cat in catArr:\n",
    "        out.append([df.iloc[i]['id'], cat])\n",
    "\n",
    "dfs = pd.DataFrame(out, columns=['facility_id', 'service_id'])\n",
    "\n",
    "dfs.head()"
   ]
  },
  {
   "cell_type": "code",
   "execution_count": null,
   "metadata": {},
   "outputs": [],
   "source": [
    "dfs.to_csv('service_fac_mapper.csv')"
   ]
  },
  {
   "cell_type": "code",
   "execution_count": null,
   "metadata": {},
   "outputs": [],
   "source": [
    "# serv = df.iloc[1]['service_names']\n",
    "# servArr = re.findall(r\"\\b\\'\\w+ *\\w*\\'\\b\", serv)\n",
    "# print(serv)\n",
    "# print(servArr)\n"
   ]
  }
 ],
 "metadata": {
  "kernelspec": {
   "display_name": "venv",
   "language": "python",
   "name": "python3"
  },
  "language_info": {
   "codemirror_mode": {
    "name": "ipython",
    "version": 3
   },
   "file_extension": ".py",
   "mimetype": "text/x-python",
   "name": "python",
   "nbconvert_exporter": "python",
   "pygments_lexer": "ipython3",
   "version": "3.11.6"
  }
 },
 "nbformat": 4,
 "nbformat_minor": 2
}
