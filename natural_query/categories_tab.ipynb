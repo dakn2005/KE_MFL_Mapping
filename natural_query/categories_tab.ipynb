{
 "cells": [
  {
   "cell_type": "markdown",
   "metadata": {},
   "source": [
    "## Create "
   ]
  },
  {
   "cell_type": "code",
   "execution_count": 38,
   "metadata": {},
   "outputs": [],
   "source": [
    "from sqlalchemy import create_engine, text\n",
    "import pandas as pd\n",
    "import duckdb\n",
    "\n",
    "engine = create_engine(\"postgresql+psycopg2:///?user=postgres&password=123@Team&host=127.0.0.1&port=5432&database=kmfl_llama\")\n",
    "# dbConnection = engine.connect()\n",
    "\n",
    "# with engine.connect() as conn:\n",
    "#     result = conn.execute(text(\"SELECT * FROM tbl_kmfl WHERE open_whole_day = true\"))\n",
    "#     for row in result:\n",
    "#         print(row)\n",
    "\n",
    "df = pd.read_sql(\"\"\"select \n",
    "    id,\n",
    "    categories, service_names\n",
    "    from tbl_kmfl \n",
    "    where lat is not null\n",
    "    \n",
    "\"\"\", con=engine)"
   ]
  },
  {
   "cell_type": "code",
   "execution_count": 33,
   "metadata": {},
   "outputs": [],
   "source": [
    "import re\n",
    "\n",
    "for i in range(len(df)):\n",
    "    cats = df.iloc[i]['categories']\n",
    "    catArr = re.findall(r'(\\w+\\-\\w+\\-\\w+\\-\\w+\\-\\w+)', cats)\n",
    "\n",
    "    # print(catArr)\n"
   ]
  },
  {
   "cell_type": "code",
   "execution_count": 62,
   "metadata": {},
   "outputs": [
    {
     "name": "stdout",
     "output_type": "stream",
     "text": [
      "['Accident and Emergency casualty Services', 'Basic Occupational Therapy', 'Basic Services for Gender Based Violence Survivors', 'Basic- Perform basic neonatal resuscitation', 'Class B', 'Natural', 'Basic YFS-service to the youth offered alongside other services', 'Focused Antenatal Care', 'General Emergency Services', 'Long Term', 'Basic Eye Care', 'Growth Monitoring', 'Hospital-Retail Service', 'Basic IMCI-management of acute Infections', 'Basic Emergency Preparedness', 'HIV Testing Services', 'Outpatient', 'Inpatient', 'Basic dental services', 'Basic Mental Health Services']\n",
      "[]\n"
     ]
    }
   ],
   "source": [
    "serv = df.iloc[1]['service_names']\n",
    "servArr = re.findall(r\"\\b\\'\\w+ *\\w*\\'\\b\", serv)\n",
    "print(serv)\n",
    "print(servArr)\n"
   ]
  }
 ],
 "metadata": {
  "kernelspec": {
   "display_name": "venv",
   "language": "python",
   "name": "python3"
  },
  "language_info": {
   "codemirror_mode": {
    "name": "ipython",
    "version": 3
   },
   "file_extension": ".py",
   "mimetype": "text/x-python",
   "name": "python",
   "nbconvert_exporter": "python",
   "pygments_lexer": "ipython3",
   "version": "3.11.6"
  }
 },
 "nbformat": 4,
 "nbformat_minor": 2
}
