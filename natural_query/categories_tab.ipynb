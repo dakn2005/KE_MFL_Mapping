{
 "cells": [
  {
   "cell_type": "markdown",
   "metadata": {},
   "source": [
    "### Create Service-facility Mapper "
   ]
  },
  {
   "cell_type": "code",
   "execution_count": 1,
   "metadata": {},
   "outputs": [],
   "source": [
    "from sqlalchemy import create_engine, text\n",
    "import pandas as pd\n",
    "import duckdb\n",
    "\n",
    "engine = create_engine(\"postgresql+psycopg2:///?user=postgres&password=123@Team&host=127.0.0.1&port=5432&database=kmfl_llama\")\n",
    "# dbConnection = engine.connect()\n",
    "\n",
    "# with engine.connect() as conn:\n",
    "#     result = conn.execute(text(\"SELECT * FROM tbl_kmfl WHERE open_whole_day = true\"))\n",
    "#     for row in result:\n",
    "#         print(row)\n",
    "\n",
    "df = pd.read_sql(\"\"\"select \n",
    "    id,\n",
    "    categories, services\n",
    "    from tbl_kmfl \n",
    "    where lat is not null\n",
    "    \n",
    "\"\"\", con=engine)"
   ]
  },
  {
   "cell_type": "code",
   "execution_count": 2,
   "metadata": {},
   "outputs": [
    {
     "data": {
      "text/html": [
       "<div>\n",
       "<style scoped>\n",
       "    .dataframe tbody tr th:only-of-type {\n",
       "        vertical-align: middle;\n",
       "    }\n",
       "\n",
       "    .dataframe tbody tr th {\n",
       "        vertical-align: top;\n",
       "    }\n",
       "\n",
       "    .dataframe thead th {\n",
       "        text-align: right;\n",
       "    }\n",
       "</style>\n",
       "<table border=\"1\" class=\"dataframe\">\n",
       "  <thead>\n",
       "    <tr style=\"text-align: right;\">\n",
       "      <th></th>\n",
       "      <th>facility_id</th>\n",
       "      <th>service_category_id</th>\n",
       "    </tr>\n",
       "  </thead>\n",
       "  <tbody>\n",
       "    <tr>\n",
       "      <th>0</th>\n",
       "      <td>1</td>\n",
       "      <td>9614d93b-1695-486e-85bd-4df0c4571b01</td>\n",
       "    </tr>\n",
       "    <tr>\n",
       "      <th>1</th>\n",
       "      <td>1</td>\n",
       "      <td>36d2f7a8-41b3-40f8-8943-e513fa28c8db</td>\n",
       "    </tr>\n",
       "    <tr>\n",
       "      <th>2</th>\n",
       "      <td>1</td>\n",
       "      <td>281fa080-27a0-46aa-b1e5-1e0a69146c09</td>\n",
       "    </tr>\n",
       "    <tr>\n",
       "      <th>3</th>\n",
       "      <td>1</td>\n",
       "      <td>f312d0b2-5e41-4587-b54d-ff1d1bc128c6</td>\n",
       "    </tr>\n",
       "    <tr>\n",
       "      <th>4</th>\n",
       "      <td>1</td>\n",
       "      <td>7de52474-6aa9-4bd2-8291-a5cd29a1b64c</td>\n",
       "    </tr>\n",
       "  </tbody>\n",
       "</table>\n",
       "</div>"
      ],
      "text/plain": [
       "   facility_id                   service_category_id\n",
       "0            1  9614d93b-1695-486e-85bd-4df0c4571b01\n",
       "1            1  36d2f7a8-41b3-40f8-8943-e513fa28c8db\n",
       "2            1  281fa080-27a0-46aa-b1e5-1e0a69146c09\n",
       "3            1  f312d0b2-5e41-4587-b54d-ff1d1bc128c6\n",
       "4            1  7de52474-6aa9-4bd2-8291-a5cd29a1b64c"
      ]
     },
     "execution_count": 2,
     "metadata": {},
     "output_type": "execute_result"
    }
   ],
   "source": [
    "import re\n",
    "import numpy as np\n",
    "\n",
    "out=[]\n",
    "for i in range(len(df)):\n",
    "    cats = df.iloc[i]['categories']\n",
    "    catArr = re.findall(r'(\\w+\\-\\w+\\-\\w+\\-\\w+\\-\\w+)', cats)\n",
    "    for cat in catArr:\n",
    "        out.append([df.iloc[i]['id'], cat])\n",
    "\n",
    "dfsc = pd.DataFrame(out, columns=['facility_id', 'service_category_id'])\n",
    "\n",
    "dfsc.head()\n",
    "\n"
   ]
  },
  {
   "cell_type": "code",
   "execution_count": 8,
   "metadata": {},
   "outputs": [],
   "source": [
    "dfsc.to_csv('service_cat_fac_mapper.csv')"
   ]
  },
  {
   "cell_type": "code",
   "execution_count": 7,
   "metadata": {},
   "outputs": [
    {
     "data": {
      "text/html": [
       "<div>\n",
       "<style scoped>\n",
       "    .dataframe tbody tr th:only-of-type {\n",
       "        vertical-align: middle;\n",
       "    }\n",
       "\n",
       "    .dataframe tbody tr th {\n",
       "        vertical-align: top;\n",
       "    }\n",
       "\n",
       "    .dataframe thead th {\n",
       "        text-align: right;\n",
       "    }\n",
       "</style>\n",
       "<table border=\"1\" class=\"dataframe\">\n",
       "  <thead>\n",
       "    <tr style=\"text-align: right;\">\n",
       "      <th></th>\n",
       "      <th>facility_id</th>\n",
       "      <th>service_id</th>\n",
       "    </tr>\n",
       "  </thead>\n",
       "  <tbody>\n",
       "    <tr>\n",
       "      <th>0</th>\n",
       "      <td>1</td>\n",
       "      <td>edb9376c-28d3-4362-b90a-5301be6e4b6e</td>\n",
       "    </tr>\n",
       "    <tr>\n",
       "      <th>1</th>\n",
       "      <td>1</td>\n",
       "      <td>1a536286-c5b9-46f4-a72f-919c1fccb8e8</td>\n",
       "    </tr>\n",
       "    <tr>\n",
       "      <th>2</th>\n",
       "      <td>1</td>\n",
       "      <td>49f4af68-6a24-4348-afdd-7e47e225ed33</td>\n",
       "    </tr>\n",
       "    <tr>\n",
       "      <th>3</th>\n",
       "      <td>1</td>\n",
       "      <td>8ed620ad-58b2-44a0-bec8-a787ffad671c</td>\n",
       "    </tr>\n",
       "    <tr>\n",
       "      <th>4</th>\n",
       "      <td>1</td>\n",
       "      <td>368c963a-b8de-461b-aa82-5ee1b0c0e391</td>\n",
       "    </tr>\n",
       "  </tbody>\n",
       "</table>\n",
       "</div>"
      ],
      "text/plain": [
       "   facility_id                            service_id\n",
       "0            1  edb9376c-28d3-4362-b90a-5301be6e4b6e\n",
       "1            1  1a536286-c5b9-46f4-a72f-919c1fccb8e8\n",
       "2            1  49f4af68-6a24-4348-afdd-7e47e225ed33\n",
       "3            1  8ed620ad-58b2-44a0-bec8-a787ffad671c\n",
       "4            1  368c963a-b8de-461b-aa82-5ee1b0c0e391"
      ]
     },
     "execution_count": 7,
     "metadata": {},
     "output_type": "execute_result"
    }
   ],
   "source": [
    "import re\n",
    "import numpy as np\n",
    "\n",
    "out=[]\n",
    "for i in range(len(df)):\n",
    "    cats = df.iloc[i]['services']\n",
    "    catArr = re.findall(r'(\\w+\\-\\w+\\-\\w+\\-\\w+\\-\\w+)', cats)\n",
    "    for cat in catArr:\n",
    "        out.append([df.iloc[i]['id'], cat])\n",
    "\n",
    "dfs = pd.DataFrame(out, columns=['facility_id', 'service_id'])\n",
    "\n",
    "dfs.head()"
   ]
  },
  {
   "cell_type": "code",
   "execution_count": 9,
   "metadata": {},
   "outputs": [],
   "source": [
    "dfs.to_csv('service_fac_mapper.csv')"
   ]
  },
  {
   "cell_type": "code",
   "execution_count": 6,
   "metadata": {},
   "outputs": [],
   "source": [
    "# serv = df.iloc[1]['service_names']\n",
    "# servArr = re.findall(r\"\\b\\'\\w+ *\\w*\\'\\b\", serv)\n",
    "# print(serv)\n",
    "# print(servArr)\n"
   ]
  }
 ],
 "metadata": {
  "kernelspec": {
   "display_name": "venv",
   "language": "python",
   "name": "python3"
  },
  "language_info": {
   "codemirror_mode": {
    "name": "ipython",
    "version": 3
   },
   "file_extension": ".py",
   "mimetype": "text/x-python",
   "name": "python",
   "nbconvert_exporter": "python",
   "pygments_lexer": "ipython3",
   "version": "3.11.6"
  }
 },
 "nbformat": 4,
 "nbformat_minor": 2
}
